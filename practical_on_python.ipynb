{
  "nbformat": 4,
  "nbformat_minor": 0,
  "metadata": {
    "colab": {
      "provenance": [],
      "authorship_tag": "ABX9TyMhoyF7kT4GYKZthW0I+Yip",
      "include_colab_link": true
    },
    "kernelspec": {
      "name": "python3",
      "display_name": "Python 3"
    },
    "language_info": {
      "name": "python"
    }
  },
  "cells": [
    {
      "cell_type": "markdown",
      "metadata": {
        "id": "view-in-github",
        "colab_type": "text"
      },
      "source": [
        "<a href=\"https://colab.research.google.com/github/Abdulaziz-1412/data-mining/blob/main/practical_on_python.ipynb\" target=\"_parent\"><img src=\"https://colab.research.google.com/assets/colab-badge.svg\" alt=\"Open In Colab\"/></a>"
      ]
    },
    {
      "cell_type": "code",
      "execution_count": null,
      "metadata": {
        "id": "VXWc4uyWoL6q"
      },
      "outputs": [],
      "source": []
    },
    {
      "cell_type": "markdown",
      "source": [
        "Basic arithmetic operations"
      ],
      "metadata": {
        "id": "mlbDxOIkou7Y"
      }
    },
    {
      "cell_type": "code",
      "source": [
        "a = 10\n",
        "b = 5\n",
        "\n",
        "sum = a + b\n",
        "difference = a - b\n",
        "product = a * b\n",
        "division = a / b\n",
        "\n",
        "print(\"Sum: \", sum)\n",
        "print(\"Difference: \", difference)\n",
        "print(\"Product: \", product)\n",
        "print(\"Division: \", division)"
      ],
      "metadata": {
        "colab": {
          "base_uri": "https://localhost:8080/"
        },
        "id": "wReDE3UqoxhQ",
        "outputId": "ba0a5072-aeae-40d3-ec5b-36f8806bc75d"
      },
      "execution_count": 1,
      "outputs": [
        {
          "output_type": "stream",
          "name": "stdout",
          "text": [
            "Sum:  15\n",
            "Difference:  5\n",
            "Product:  50\n",
            "Division:  2.0\n"
          ]
        }
      ]
    },
    {
      "cell_type": "code",
      "source": [
        "print(f\"The sum of the two numbers {a}, {b} is {sum}\")\n"
      ],
      "metadata": {
        "colab": {
          "base_uri": "https://localhost:8080/"
        },
        "id": "F0exkxh3ppjv",
        "outputId": "bb0c28df-e731-4840-daf1-6425e26fa065"
      },
      "execution_count": 2,
      "outputs": [
        {
          "output_type": "stream",
          "name": "stdout",
          "text": [
            "The sum of the two numbers 10, 5 is 15\n"
          ]
        }
      ]
    },
    {
      "cell_type": "code",
      "source": [
        "x = 13 // 2\n",
        "print(x)\n",
        "\n",
        "y = 13 % 2\n",
        "print(y)"
      ],
      "metadata": {
        "colab": {
          "base_uri": "https://localhost:8080/"
        },
        "id": "5wmWVEk-qUex",
        "outputId": "20ef46e6-5ab8-470f-a488-4407891cb564"
      },
      "execution_count": 3,
      "outputs": [
        {
          "output_type": "stream",
          "name": "stdout",
          "text": [
            "6\n",
            "1\n"
          ]
        }
      ]
    },
    {
      "cell_type": "code",
      "source": [
        "# Boolean variables and comparisons\n",
        "\n",
        "x = 10\n",
        "y = 5\n",
        "\n",
        "is_greater = x > y\n",
        "is_equal = x == y\n",
        "is_not_equal = x != y\n",
        "\n",
        "print(\"Is x greater than y?\", is_greater)\n",
        "print(\"Is x equal y?\", is_equal)\n",
        "print(\"Is x not equal to y?\", is_not_equal)"
      ],
      "metadata": {
        "colab": {
          "base_uri": "https://localhost:8080/"
        },
        "id": "FG9WL7lkrdv3",
        "outputId": "cebba52b-fef4-4ff7-b0d5-c74cefdd62de"
      },
      "execution_count": 4,
      "outputs": [
        {
          "output_type": "stream",
          "name": "stdout",
          "text": [
            "Is x greater than y? True\n",
            "Is x equal y? False\n",
            "Is x not equal to y? True\n"
          ]
        }
      ]
    },
    {
      "cell_type": "code",
      "source": [
        "# Variable assignment\n",
        "\n",
        "name = \"Alaa\"\n",
        "age = 55\n",
        "is_professor = True\n",
        "\n",
        "print(f\"{name}'s age is {age}. He is a Professor is {is_professor}\")"
      ],
      "metadata": {
        "colab": {
          "base_uri": "https://localhost:8080/"
        },
        "id": "QzvSjHRNsam7",
        "outputId": "2af16ed1-06cc-4948-da16-1ccd4b20f279"
      },
      "execution_count": 9,
      "outputs": [
        {
          "output_type": "stream",
          "name": "stdout",
          "text": [
            "Alaa's age is 55. He is a Professor is True\n"
          ]
        }
      ]
    },
    {
      "cell_type": "code",
      "source": [
        "# Defining and using a function\n",
        "\n",
        "def greet(name):\n",
        "    return \"Hello, \" + name + \"!\"\n",
        "\n",
        "my_name = input(\"Enter your name:\")\n",
        "greet(my_name)"
      ],
      "metadata": {
        "colab": {
          "base_uri": "https://localhost:8080/",
          "height": 52
        },
        "id": "8IfFNM_XtpLS",
        "outputId": "5b86e295-25c5-4f74-c4a2-516b21b8646f"
      },
      "execution_count": 20,
      "outputs": [
        {
          "name": "stdout",
          "output_type": "stream",
          "text": [
            "Enter your name:alaa\n"
          ]
        },
        {
          "output_type": "execute_result",
          "data": {
            "text/plain": [
              "'Hello, alaa!'"
            ],
            "application/vnd.google.colaboratory.intrinsic+json": {
              "type": "string"
            }
          },
          "metadata": {},
          "execution_count": 20
        }
      ]
    },
    {
      "cell_type": "code",
      "source": [
        "def add_numbers(a, b):\n",
        "    return a + b\n",
        "\n",
        "a = int(input(\"Enter first number: \"))\n",
        "b = int(input(\"Enter second number: \"))\n",
        "\n",
        "addition_value = add_numbers(a, b)\n",
        "print(f\"The result of addition for {a}, {b} is {addition_value}\")"
      ],
      "metadata": {
        "colab": {
          "base_uri": "https://localhost:8080/"
        },
        "id": "4kxeNCDCwdeF",
        "outputId": "4b7d808a-5f78-4b1f-dd55-4d49b2111623"
      },
      "execution_count": 19,
      "outputs": [
        {
          "output_type": "stream",
          "name": "stdout",
          "text": [
            "Enter first number: 2\n",
            "Enter second number: 3\n",
            "The result of addition for 2, 3 is 5\n"
          ]
        }
      ]
    },
    {
      "cell_type": "code",
      "source": [
        "def add_numbers(a, b):\n",
        "    return a + b\n",
        "\n",
        "a = eval(input(\"Enter first number: \"))\n",
        "b = eval\n",
        " (input(\"Enter second number: \"))\n",
        "\n",
        "addition_value = add_numbers(a, b)\n",
        "print(f\"The result of addition for {a}, {b} is {addition_value}\")"
      ],
      "metadata": {
        "colab": {
          "base_uri": "https://localhost:8080/"
        },
        "id": "HCKUwNUIw9SL",
        "outputId": "2018e870-dbbb-49a4-ce65-a0718e5f44d8"
      },
      "execution_count": 21,
      "outputs": [
        {
          "output_type": "stream",
          "name": "stdout",
          "text": [
            "Enter first number: 2.34\n",
            "Enter second number: 5.67\n",
            "The result of addition for 2.34, 5.67 is 8.01\n"
          ]
        }
      ]
    },
    {
      "cell_type": "code",
      "source": [
        "# Working with strings\n",
        "\n",
        "message = \"Hello, World\"\n",
        "length = len(message)\n",
        "uppercase = message.upper()\n",
        "lowercase = message.lower()\n",
        "substring = message[7:12]\n",
        "\n",
        "print(\"Original message: \", message)\n",
        "print(\"The length is: \", length)\n",
        "print(\"Upper case: \", uppercase)\n",
        "print(\"Lower case: \", lowercase)\n",
        "print(\"Part of the message is: \", substring)"
      ],
      "metadata": {
        "colab": {
          "base_uri": "https://localhost:8080/"
        },
        "id": "DiPqp_lmy6Q5",
        "outputId": "ac7a5611-cb58-49ad-d640-913289f0edcd"
      },
      "execution_count": 22,
      "outputs": [
        {
          "output_type": "stream",
          "name": "stdout",
          "text": [
            "Original message:  Hello, World\n",
            "The length is:  12\n",
            "Upper case:  HELLO, WORLD\n",
            "Lower case:  hello, world\n",
            "Part of the message is:  World\n"
          ]
        }
      ]
    },
    {
      "cell_type": "code",
      "source": [
        "# Basic input example\n",
        "\n",
        "Last = input(\"Enter the last name, last name: \")\n",
        "First = input(\"Enter the last name, first name: \")\n",
        "\n",
        "print(f\"{Last}, {First}\")"
      ],
      "metadata": {
        "colab": {
          "base_uri": "https://localhost:8080/"
        },
        "id": "BpJjDC_Ez3O8",
        "outputId": "c6c91cae-ad50-4e00-835d-51bec32a833e"
      },
      "execution_count": 23,
      "outputs": [
        {
          "output_type": "stream",
          "name": "stdout",
          "text": [
            "Enter the last name, last name: sheta\n",
            "Enter the last name, first name: alaa\n",
            "sheta, alaa\n"
          ]
        }
      ]
    },
    {
      "cell_type": "code",
      "source": [
        "# Numeric input example\n",
        "\n",
        "age = int(input(\"Enter your age: \"))\n",
        "print(\"You will be\", age + 1, \"years old next year.\")"
      ],
      "metadata": {
        "colab": {
          "base_uri": "https://localhost:8080/"
        },
        "id": "xKv30Kat0Wn4",
        "outputId": "89d45d95-0044-4e00-84cc-459825c7ec30"
      },
      "execution_count": 24,
      "outputs": [
        {
          "output_type": "stream",
          "name": "stdout",
          "text": [
            "Enter your age: 55\n",
            "You will be 56 years old next year.\n"
          ]
        }
      ]
    },
    {
      "cell_type": "code",
      "source": [
        "# Calculations with input\n",
        "\n",
        "num1 = float(input(\"Enter a number: \"))\n",
        "num2 = float(input(\"Enter another number: \"))\n",
        "\n",
        "sum_result = num1 + num2\n",
        "print(\"Sum:\", sum_result)"
      ],
      "metadata": {
        "colab": {
          "base_uri": "https://localhost:8080/"
        },
        "id": "UjEgURuF0zac",
        "outputId": "ba13de93-5025-4244-e76d-08f3bb4331a8"
      },
      "execution_count": 25,
      "outputs": [
        {
          "output_type": "stream",
          "name": "stdout",
          "text": [
            "Enter a number: 12\n",
            "Enter another number: 14\n",
            "Sum: 26.0\n"
          ]
        }
      ]
    },
    {
      "cell_type": "code",
      "source": [
        "# String concatenation with input\n",
        "\n",
        "city = input(\"Enter your city: \")\n",
        "country = input(\"Enter your country: \")\n",
        "\n",
        "location = city + \", \" + country\n",
        "print(\"You are in:\", location)"
      ],
      "metadata": {
        "colab": {
          "base_uri": "https://localhost:8080/"
        },
        "id": "k6jAcfZ81MhS",
        "outputId": "7801ac07-d57f-4af1-d4f5-c4f79c22e61a"
      },
      "execution_count": 27,
      "outputs": [
        {
          "output_type": "stream",
          "name": "stdout",
          "text": [
            "Enter your city: New Haven\n",
            "Enter your country: USA\n",
            "You are in: New Haven, USA\n"
          ]
        }
      ]
    },
    {
      "cell_type": "code",
      "source": [
        "# Multiple inputs\n",
        "\n",
        "name, age = input(\"Enter your name and age separated by space: \").split()\n",
        "print(f\"My name is {name} and my age is {age}\")"
      ],
      "metadata": {
        "colab": {
          "base_uri": "https://localhost:8080/"
        },
        "id": "ar4AQ6j52kRP",
        "outputId": "b6d643df-0918-4b10-9cce-c16d23842050"
      },
      "execution_count": 28,
      "outputs": [
        {
          "output_type": "stream",
          "name": "stdout",
          "text": [
            "Enter your name and age separated by space: Alaa 55\n",
            "My name is Alaa and my age is 55\n"
          ]
        }
      ]
    }
  ]
}